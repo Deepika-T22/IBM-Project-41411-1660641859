{
  "nbformat": 4,
  "nbformat_minor": 0,
  "metadata": {
    "colab": {
      "provenance": [],
      "collapsed_sections": []
    },
    "kernelspec": {
      "name": "python3",
      "display_name": "Python 3"
    },
    "language_info": {
      "name": "python"
    }
  },
  "cells": [
    {
      "cell_type": "code",
      "source": [
        "from google.colab import drive\n",
        "drive.mount('/content/drive')"
      ],
      "metadata": {
        "colab": {
          "base_uri": "https://localhost:8080/"
        },
        "id": "19pj8jBsxK0U",
        "outputId": "65a7c5fe-a4a8-45c9-b561-21e3564f9bd8"
      },
      "execution_count": 6,
      "outputs": [
        {
          "output_type": "stream",
          "name": "stdout",
          "text": [
            "Drive already mounted at /content/drive; to attempt to forcibly remount, call drive.mount(\"/content/drive\", force_remount=True).\n"
          ]
        }
      ]
    },
    {
      "cell_type": "code",
      "source": [
        "from zipfile import ZipFile\n"
      ],
      "metadata": {
        "id": "JlEUCS8x6RZf"
      },
      "execution_count": 11,
      "outputs": []
    },
    {
      "cell_type": "code",
      "source": [
        "with ZipFile('/content/drive/MyDrive/Flowers-Dataset (1).zip', 'r') as zipObj:\n",
        "  zipObj.extractall('/content/drive/MyDrive/test')"
      ],
      "metadata": {
        "id": "I_tFk4h56xeA"
      },
      "execution_count": 15,
      "outputs": []
    },
    {
      "cell_type": "code",
      "source": [
        "from tensorflow.keras.preprocessing.image import ImageDataGenerator\n",
        "train_datagen = ImageDataGenerator(rescale= 1./255,horizontal_flip = True,vertical_flip =\n",
        "True,zoom_range = 0.2)\n",
        "test_datagen = ImageDataGenerator(rescale= 1./255)\n",
        "x_train = train_datagen.flow_from_directory(r\"/content/drive/MyDrive/test/flowers\",target_size = (64,64),class_mode = \"categorical\",batch_size = 24)"
      ],
      "metadata": {
        "colab": {
          "base_uri": "https://localhost:8080/"
        },
        "id": "HNVGCuC6iSLA",
        "outputId": "5dd933f4-1688-4432-aa7a-9bbfd75a7825"
      },
      "execution_count": 16,
      "outputs": [
        {
          "output_type": "stream",
          "name": "stdout",
          "text": [
            "Found 4317 images belonging to 5 classes.\n"
          ]
        }
      ]
    },
    {
      "cell_type": "code",
      "source": [
        "x_test = test_datagen.flow_from_directory(r\"/content/drive/MyDrive/test/flowers\",target_size = (64,64),\n",
        " \n",
        "class_mode = \"categorical\",batch_size = 24)"
      ],
      "metadata": {
        "id": "1Vc-qCsZlz4N",
        "colab": {
          "base_uri": "https://localhost:8080/"
        },
        "outputId": "fa0e04ce-5613-4bf5-cb6b-e8423bf867a9"
      },
      "execution_count": 17,
      "outputs": [
        {
          "output_type": "stream",
          "name": "stdout",
          "text": [
            "Found 4317 images belonging to 5 classes.\n"
          ]
        }
      ]
    },
    {
      "cell_type": "code",
      "source": [
        "x_train.class_indices"
      ],
      "metadata": {
        "colab": {
          "base_uri": "https://localhost:8080/"
        },
        "id": "aSliKH2Y8bd6",
        "outputId": "2b6be507-2a0d-4206-901f-699159207851"
      },
      "execution_count": 19,
      "outputs": [
        {
          "output_type": "execute_result",
          "data": {
            "text/plain": [
              "{'daisy': 0, 'dandelion': 1, 'rose': 2, 'sunflower': 3, 'tulip': 4}"
            ]
          },
          "metadata": {},
          "execution_count": 19
        }
      ]
    },
    {
      "cell_type": "markdown",
      "source": [
        "MODEL CREATION\n"
      ],
      "metadata": {
        "id": "2Y99SQLWa0AU"
      }
    },
    {
      "cell_type": "code",
      "source": [
        "from tensorflow.keras.models import Sequential\n",
        "from tensorflow.keras.layers import Dense\n",
        "from tensorflow.keras.layers import Convolution2D,MaxPooling2D,Flatten\n",
        "model=Sequential()\n",
        "model.add(Convolution2D(32,(3,3),input_shape=(64,64,3),activation='relu'))\n",
        "model.add(MaxPooling2D(pool_size=(2,2)))\n",
        "model.add(Flatten())\n",
        "model.summary()"
      ],
      "metadata": {
        "id": "4qkBi3IOa3kF",
        "colab": {
          "base_uri": "https://localhost:8080/"
        },
        "outputId": "e18151fa-9675-4d98-c05f-923989cf6e89"
      },
      "execution_count": 20,
      "outputs": [
        {
          "output_type": "stream",
          "name": "stdout",
          "text": [
            "Model: \"sequential_1\"\n",
            "_________________________________________________________________\n",
            " Layer (type)                Output Shape              Param #   \n",
            "=================================================================\n",
            " conv2d_1 (Conv2D)           (None, 62, 62, 32)        896       \n",
            "                                                                 \n",
            " max_pooling2d_1 (MaxPooling  (None, 31, 31, 32)       0         \n",
            " 2D)                                                             \n",
            "                                                                 \n",
            " flatten_1 (Flatten)         (None, 30752)             0         \n",
            "                                                                 \n",
            "=================================================================\n",
            "Total params: 896\n",
            "Trainable params: 896\n",
            "Non-trainable params: 0\n",
            "_________________________________________________________________\n"
          ]
        }
      ]
    },
    {
      "cell_type": "code",
      "source": [
        "model.add(Dense(300,activation='relu'))\n",
        "model.add(Dense(150,activation='relu'))\n",
        "model.add(Dense(5,activation='softmax'))\n",
        "len(x_train)\n"
      ],
      "metadata": {
        "id": "ycsq-ZmgbAaD",
        "colab": {
          "base_uri": "https://localhost:8080/"
        },
        "outputId": "6f47d65b-4cce-4150-ef6f-ec391ba779f5"
      },
      "execution_count": 21,
      "outputs": [
        {
          "output_type": "execute_result",
          "data": {
            "text/plain": [
              "180"
            ]
          },
          "metadata": {},
          "execution_count": 21
        }
      ]
    },
    {
      "cell_type": "markdown",
      "source": [
        "COMPILE THE MODEL\n"
      ],
      "metadata": {
        "id": "g3NXWEYobFEw"
      }
    },
    {
      "cell_type": "code",
      "source": [
        "model.compile(loss='categorical_crossentropy',optimizer='adam',metrics=['accuracy'])"
      ],
      "metadata": {
        "id": "v7Ij2xXzbIBI"
      },
      "execution_count": 22,
      "outputs": []
    },
    {
      "cell_type": "markdown",
      "source": [
        "FIT THE MODEL"
      ],
      "metadata": {
        "id": "RL5IhZnwbM9w"
      }
    },
    {
      "cell_type": "code",
      "source": [
        "model.fit(x_train,steps_per_epoch=len(x_train),validation_data=x_test,validation_steps=len(x_test),epochs=10)"
      ],
      "metadata": {
        "id": "bHJr9hqpbQAW",
        "colab": {
          "base_uri": "https://localhost:8080/"
        },
        "outputId": "37ac9c34-1e37-454c-c025-25f5f9ed7270"
      },
      "execution_count": 24,
      "outputs": [
        {
          "output_type": "stream",
          "name": "stdout",
          "text": [
            "Epoch 1/10\n",
            "180/180 [==============================] - 71s 388ms/step - loss: 1.3235 - accuracy: 0.4675 - val_loss: 1.1341 - val_accuracy: 0.5469\n",
            "Epoch 2/10\n",
            "180/180 [==============================] - 69s 384ms/step - loss: 1.0574 - accuracy: 0.5645 - val_loss: 1.0018 - val_accuracy: 0.6032\n",
            "Epoch 3/10\n",
            "180/180 [==============================] - 71s 394ms/step - loss: 0.9703 - accuracy: 0.6217 - val_loss: 0.9990 - val_accuracy: 0.6173\n",
            "Epoch 4/10\n",
            "180/180 [==============================] - 67s 373ms/step - loss: 0.9080 - accuracy: 0.6467 - val_loss: 0.9414 - val_accuracy: 0.6421\n",
            "Epoch 5/10\n",
            "180/180 [==============================] - 68s 378ms/step - loss: 0.8783 - accuracy: 0.6641 - val_loss: 0.8239 - val_accuracy: 0.6840\n",
            "Epoch 6/10\n",
            "180/180 [==============================] - 72s 399ms/step - loss: 0.8417 - accuracy: 0.6750 - val_loss: 0.7569 - val_accuracy: 0.7005\n",
            "Epoch 7/10\n",
            "180/180 [==============================] - 68s 376ms/step - loss: 0.8050 - accuracy: 0.6887 - val_loss: 0.7536 - val_accuracy: 0.7058\n",
            "Epoch 8/10\n",
            "180/180 [==============================] - 67s 373ms/step - loss: 0.7850 - accuracy: 0.6949 - val_loss: 0.7048 - val_accuracy: 0.7253\n",
            "Epoch 9/10\n",
            "180/180 [==============================] - 68s 376ms/step - loss: 0.7409 - accuracy: 0.7158 - val_loss: 0.7288 - val_accuracy: 0.7190\n",
            "Epoch 10/10\n",
            "180/180 [==============================] - 68s 377ms/step - loss: 0.7313 - accuracy: 0.7211 - val_loss: 0.6857 - val_accuracy: 0.7403\n"
          ]
        },
        {
          "output_type": "execute_result",
          "data": {
            "text/plain": [
              "<keras.callbacks.History at 0x7f78aaf153d0>"
            ]
          },
          "metadata": {},
          "execution_count": 24
        }
      ]
    },
    {
      "cell_type": "markdown",
      "source": [
        "SAVE THE MODEL"
      ],
      "metadata": {
        "id": "ekHa8jYUba8w"
      }
    },
    {
      "cell_type": "code",
      "source": [
        "model.save('IBM_flowers.h5')"
      ],
      "metadata": {
        "id": "_DIrShHrbcpZ"
      },
      "execution_count": 25,
      "outputs": []
    },
    {
      "cell_type": "markdown",
      "source": [
        "TEST THE MODEL"
      ],
      "metadata": {
        "id": "e06k0CLfcEMm"
      }
    },
    {
      "cell_type": "code",
      "source": [
        "import numpy as np\n",
        "from tensorflow.keras.models import load_model\n",
        "from tensorflow.keras.preprocessing import image\n",
        "model=load_model('IBM_flowers.h5')\n",
        "img=image.load_img(r'/content/drive/MyDrive/test/flowers/rose/394990940_7af082cf8d_n.jpg')"
      ],
      "metadata": {
        "id": "rqydXEJ0bksH"
      },
      "execution_count": 26,
      "outputs": []
    },
    {
      "cell_type": "code",
      "source": [
        "img=image.load_img(r'/content/drive/MyDrive/test/flowers/rose/394990940_7af082cf8d_n.jpg',target_size=(64,64))\n",
        "img"
      ],
      "metadata": {
        "id": "lIPAKiZ4bpe9",
        "colab": {
          "base_uri": "https://localhost:8080/",
          "height": 81
        },
        "outputId": "c5e14222-97ac-4ec1-c230-9897ca53d83a"
      },
      "execution_count": 27,
      "outputs": [
        {
          "output_type": "execute_result",
          "data": {
            "text/plain": [
              "<PIL.Image.Image image mode=RGB size=64x64 at 0x7F78AAEA9310>"
            ],
            "image/png": "[encoded data removed]"
          },
          "metadata": {},
          "execution_count": 27
        }
      ]
    },
    {
      "cell_type": "code",
      "source": [
        "x=image.img_to_array(img)\n",
        "x"
      ],
      "metadata": {
        "id": "gDQ2JK0dbtAu",
        "colab": {
          "base_uri": "https://localhost:8080/"
        },
        "outputId": "a090b47c-30f6-44f2-a687-d69ebba262ec"
      },
      "execution_count": 28,
      "outputs": [
        {
          "output_type": "execute_result",
          "data": {
            "text/plain": [
              "array([[[ 4., 14.,  3.],\n",
              "        [ 4., 15.,  0.],\n",
              "        [ 7., 10.,  3.],\n",
              "        ...,\n",
              "        [ 1.,  1.,  1.],\n",
              "        [ 1.,  1.,  1.],\n",
              "        [ 3.,  3.,  3.]],\n",
              "\n",
              "       [[21., 37.,  8.],\n",
              "        [ 7., 18.,  1.],\n",
              "        [ 5., 11.,  1.],\n",
              "        ...,\n",
              "        [ 1.,  1.,  3.],\n",
              "        [ 1.,  1.,  1.],\n",
              "        [ 2.,  2.,  2.]],\n",
              "\n",
              "       [[15., 34.,  4.],\n",
              "        [ 5., 18.,  0.],\n",
              "        [ 6., 14.,  3.],\n",
              "        ...,\n",
              "        [ 1.,  2.,  4.],\n",
              "        [ 0.,  0.,  0.],\n",
              "        [ 1.,  1.,  1.]],\n",
              "\n",
              "       ...,\n",
              "\n",
              "       [[ 7., 11., 10.],\n",
              "        [ 7., 16., 15.],\n",
              "        [17., 23., 21.],\n",
              "        ...,\n",
              "        [ 1.,  1.,  1.],\n",
              "        [ 2.,  2.,  2.],\n",
              "        [ 0.,  0.,  0.]],\n",
              "\n",
              "       [[ 9., 18., 15.],\n",
              "        [ 2.,  7.,  3.],\n",
              "        [ 5., 11.,  7.],\n",
              "        ...,\n",
              "        [ 0.,  0.,  0.],\n",
              "        [ 1.,  1.,  1.],\n",
              "        [ 1.,  1.,  1.]],\n",
              "\n",
              "       [[18., 26., 28.],\n",
              "        [ 0., 10.,  2.],\n",
              "        [ 8., 14., 10.],\n",
              "        ...,\n",
              "        [ 2.,  6.,  9.],\n",
              "        [ 1.,  1.,  1.],\n",
              "        [ 1.,  1.,  1.]]], dtype=float32)"
            ]
          },
          "metadata": {},
          "execution_count": 28
        }
      ]
    },
    {
      "cell_type": "code",
      "source": [
        "x=np.expand_dims(x,axis=0)\n",
        "x\n"
      ],
      "metadata": {
        "id": "TkOAC7WEbwzu",
        "colab": {
          "base_uri": "https://localhost:8080/"
        },
        "outputId": "cb829b22-ce1b-431c-b761-e313e572e76b"
      },
      "execution_count": 29,
      "outputs": [
        {
          "output_type": "execute_result",
          "data": {
            "text/plain": [
              "array([[[[ 4., 14.,  3.],\n",
              "         [ 4., 15.,  0.],\n",
              "         [ 7., 10.,  3.],\n",
              "         ...,\n",
              "         [ 1.,  1.,  1.],\n",
              "         [ 1.,  1.,  1.],\n",
              "         [ 3.,  3.,  3.]],\n",
              "\n",
              "        [[21., 37.,  8.],\n",
              "         [ 7., 18.,  1.],\n",
              "         [ 5., 11.,  1.],\n",
              "         ...,\n",
              "         [ 1.,  1.,  3.],\n",
              "         [ 1.,  1.,  1.],\n",
              "         [ 2.,  2.,  2.]],\n",
              "\n",
              "        [[15., 34.,  4.],\n",
              "         [ 5., 18.,  0.],\n",
              "         [ 6., 14.,  3.],\n",
              "         ...,\n",
              "         [ 1.,  2.,  4.],\n",
              "         [ 0.,  0.,  0.],\n",
              "         [ 1.,  1.,  1.]],\n",
              "\n",
              "        ...,\n",
              "\n",
              "        [[ 7., 11., 10.],\n",
              "         [ 7., 16., 15.],\n",
              "         [17., 23., 21.],\n",
              "         ...,\n",
              "         [ 1.,  1.,  1.],\n",
              "         [ 2.,  2.,  2.],\n",
              "         [ 0.,  0.,  0.]],\n",
              "\n",
              "        [[ 9., 18., 15.],\n",
              "         [ 2.,  7.,  3.],\n",
              "         [ 5., 11.,  7.],\n",
              "         ...,\n",
              "         [ 0.,  0.,  0.],\n",
              "         [ 1.,  1.,  1.],\n",
              "         [ 1.,  1.,  1.]],\n",
              "\n",
              "        [[18., 26., 28.],\n",
              "         [ 0., 10.,  2.],\n",
              "         [ 8., 14., 10.],\n",
              "         ...,\n",
              "         [ 2.,  6.,  9.],\n",
              "         [ 1.,  1.,  1.],\n",
              "         [ 1.,  1.,  1.]]]], dtype=float32)"
            ]
          },
          "metadata": {},
          "execution_count": 29
        }
      ]
    },
    {
      "cell_type": "code",
      "source": [
        "y=np.argmax(model.predict(x),axis=1)\n",
        "y"
      ],
      "metadata": {
        "id": "OjrqUclmb2kX",
        "colab": {
          "base_uri": "https://localhost:8080/"
        },
        "outputId": "6ed8225f-a790-40e4-f1fb-4c19d870d872"
      },
      "execution_count": 30,
      "outputs": [
        {
          "output_type": "stream",
          "name": "stdout",
          "text": [
            "1/1 [==============================] - 0s 109ms/step\n"
          ]
        },
        {
          "output_type": "execute_result",
          "data": {
            "text/plain": [
              "array([2])"
            ]
          },
          "metadata": {},
          "execution_count": 30
        }
      ]
    },
    {
      "cell_type": "code",
      "source": [
        "x_train.class_indices"
      ],
      "metadata": {
        "id": "nRODFHkyb7D6",
        "colab": {
          "base_uri": "https://localhost:8080/"
        },
        "outputId": "a456437d-72d1-4031-cd62-c5c8b027fd42"
      },
      "execution_count": 31,
      "outputs": [
        {
          "output_type": "execute_result",
          "data": {
            "text/plain": [
              "{'daisy': 0, 'dandelion': 1, 'rose': 2, 'sunflower': 3, 'tulip': 4}"
            ]
          },
          "metadata": {},
          "execution_count": 31
        }
      ]
    },
    {
      "cell_type": "code",
      "source": [
        "index=['daisy','dandelion','rose','sunflower','tulip']\n",
        "index[y[0]]"
      ],
      "metadata": {
        "id": "dVERJemSb9js",
        "colab": {
          "base_uri": "https://localhost:8080/",
          "height": 36
        },
        "outputId": "be5605f4-ed04-40e8-ecc6-d3ba01e340d2"
      },
      "execution_count": 32,
      "outputs": [
        {
          "output_type": "execute_result",
          "data": {
            "text/plain": [
              "'rose'"
            ],
            "application/vnd.google.colaboratory.intrinsic+json": {
              "type": "string"
            }
          },
          "metadata": {},
          "execution_count": 32
        }
      ]
    }
  ]
}