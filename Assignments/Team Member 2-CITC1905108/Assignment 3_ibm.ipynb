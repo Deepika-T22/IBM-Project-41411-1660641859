{
  "nbformat": 4,
  "nbformat_minor": 0,
  "metadata": {
    "colab": {
      "provenance": [],
      "collapsed_sections": []
    },
    "kernelspec": {
      "name": "python3",
      "display_name": "Python 3"
    },
    "language_info": {
      "name": "python"
    }
  },
  "cells": [
    {
      "cell_type": "code",
      "source": [
        "from google.colab import drive\n",
        "drive.mount('/content/drive')"
      ],
      "metadata": {
        "colab": {
          "base_uri": "https://localhost:8080/"
        },
        "id": "19pj8jBsxK0U",
        "outputId": "d15516a5-0499-4c68-b845-ff51d547eb3c"
      },
      "execution_count": 1,
      "outputs": [
        {
          "output_type": "stream",
          "name": "stdout",
          "text": [
            "Mounted at /content/drive\n"
          ]
        }
      ]
    },
    {
      "cell_type": "code",
      "source": [
        "from zipfile import ZipFile\n"
      ],
      "metadata": {
        "id": "JlEUCS8x6RZf"
      },
      "execution_count": 2,
      "outputs": []
    },
    {
      "cell_type": "code",
      "source": [
        "with ZipFile('/content/drive/MyDrive/Flowers-Dataset (1).zip', 'r') as zipObj:\n",
        "  zipObj.extractall('/content/drive/MyDrive/test')"
      ],
      "metadata": {
        "id": "I_tFk4h56xeA"
      },
      "execution_count": 3,
      "outputs": []
    },
    {
      "cell_type": "code",
      "source": [
        "from tensorflow.keras.preprocessing.image import ImageDataGenerator\n",
        "train_datagen = ImageDataGenerator(rescale= 1./255,horizontal_flip = True,vertical_flip =\n",
        "True,zoom_range = 0.2)\n",
        "test_datagen = ImageDataGenerator(rescale= 1./255)\n",
        "x_train = train_datagen.flow_from_directory(r\"/content/drive/MyDrive/test/flowers\",target_size = (64,64),class_mode = \"categorical\",batch_size = 24)"
      ],
      "metadata": {
        "colab": {
          "base_uri": "https://localhost:8080/"
        },
        "id": "HNVGCuC6iSLA",
        "outputId": "4ef20969-32ec-47c1-a3f7-812012794330"
      },
      "execution_count": 5,
      "outputs": [
        {
          "output_type": "stream",
          "name": "stdout",
          "text": [
            "Found 4317 images belonging to 5 classes.\n"
          ]
        }
      ]
    },
    {
      "cell_type": "code",
      "source": [
        "x_test = test_datagen.flow_from_directory(r\"/content/drive/MyDrive/test/flowers\",target_size = (64,64),\n",
        " \n",
        "class_mode = \"categorical\",batch_size = 24)"
      ],
      "metadata": {
        "id": "1Vc-qCsZlz4N",
        "colab": {
          "base_uri": "https://localhost:8080/"
        },
        "outputId": "2e9c06d6-1745-4cef-a245-143e081c0c05"
      },
      "execution_count": 6,
      "outputs": [
        {
          "output_type": "stream",
          "name": "stdout",
          "text": [
            "Found 4317 images belonging to 5 classes.\n"
          ]
        }
      ]
    },
    {
      "cell_type": "code",
      "source": [
        "x_train.class_indices"
      ],
      "metadata": {
        "colab": {
          "base_uri": "https://localhost:8080/"
        },
        "id": "aSliKH2Y8bd6",
        "outputId": "d2c16df4-211c-4814-d5dd-85bec9471662"
      },
      "execution_count": 8,
      "outputs": [
        {
          "output_type": "execute_result",
          "data": {
            "text/plain": [
              "{'daisy': 0, 'dandelion': 1, 'rose': 2, 'sunflower': 3, 'tulip': 4}"
            ]
          },
          "metadata": {},
          "execution_count": 8
        }
      ]
    },
    {
      "cell_type": "markdown",
      "source": [
        "MODEL CREATION\n"
      ],
      "metadata": {
        "id": "2Y99SQLWa0AU"
      }
    },
    {
      "cell_type": "code",
      "source": [
        "from tensorflow.keras.models import Sequential\n",
        "from tensorflow.keras.layers import Dense\n",
        "from tensorflow.keras.layers import Convolution2D,MaxPooling2D,Flatten\n",
        "model=Sequential()\n",
        "model.add(Convolution2D(32,(3,3),input_shape=(64,64,3),activation='relu'))\n",
        "model.add(MaxPooling2D(pool_size=(2,2)))\n",
        "model.add(Flatten())\n",
        "model.summary()"
      ],
      "metadata": {
        "id": "4qkBi3IOa3kF",
        "colab": {
          "base_uri": "https://localhost:8080/"
        },
        "outputId": "a196689e-d696-4e29-c1c9-52c94b176017"
      },
      "execution_count": 7,
      "outputs": [
        {
          "output_type": "stream",
          "name": "stdout",
          "text": [
            "Model: \"sequential\"\n",
            "_________________________________________________________________\n",
            " Layer (type)                Output Shape              Param #   \n",
            "=================================================================\n",
            " conv2d (Conv2D)             (None, 62, 62, 32)        896       \n",
            "                                                                 \n",
            " max_pooling2d (MaxPooling2D  (None, 31, 31, 32)       0         \n",
            " )                                                               \n",
            "                                                                 \n",
            " flatten (Flatten)           (None, 30752)             0         \n",
            "                                                                 \n",
            "=================================================================\n",
            "Total params: 896\n",
            "Trainable params: 896\n",
            "Non-trainable params: 0\n",
            "_________________________________________________________________\n"
          ]
        }
      ]
    },
    {
      "cell_type": "code",
      "source": [
        "model.add(Dense(300,activation='relu'))\n",
        "model.add(Dense(150,activation='relu'))\n",
        "model.add(Dense(5,activation='softmax'))\n",
        "len(x_train)\n"
      ],
      "metadata": {
        "id": "ycsq-ZmgbAaD",
        "colab": {
          "base_uri": "https://localhost:8080/"
        },
        "outputId": "4ab464a1-9d90-48eb-f8d8-9717f810d511"
      },
      "execution_count": 9,
      "outputs": [
        {
          "output_type": "execute_result",
          "data": {
            "text/plain": [
              "180"
            ]
          },
          "metadata": {},
          "execution_count": 9
        }
      ]
    },
    {
      "cell_type": "markdown",
      "source": [
        "COMPILE THE MODEL\n"
      ],
      "metadata": {
        "id": "g3NXWEYobFEw"
      }
    },
    {
      "cell_type": "code",
      "source": [
        "model.compile(loss='categorical_crossentropy',optimizer='adam',metrics=['accuracy'])"
      ],
      "metadata": {
        "id": "v7Ij2xXzbIBI"
      },
      "execution_count": 10,
      "outputs": []
    },
    {
      "cell_type": "markdown",
      "source": [
        "FIT THE MODEL"
      ],
      "metadata": {
        "id": "RL5IhZnwbM9w"
      }
    },
    {
      "cell_type": "code",
      "source": [
        "model.fit(x_train,steps_per_epoch=len(x_train),validation_data=x_test,validation_steps=len(x_test),epochs=10)"
      ],
      "metadata": {
        "id": "bHJr9hqpbQAW",
        "colab": {
          "base_uri": "https://localhost:8080/"
        },
        "outputId": "622642a7-0965-45a3-c121-30384c7ad030"
      },
      "execution_count": 11,
      "outputs": [
        {
          "output_type": "stream",
          "name": "stdout",
          "text": [
            "Epoch 1/10\n",
            "180/180 [==============================] - 67s 368ms/step - loss: 1.2909 - accuracy: 0.4858 - val_loss: 1.1398 - val_accuracy: 0.5390\n",
            "Epoch 2/10\n",
            "180/180 [==============================] - 65s 363ms/step - loss: 1.0631 - accuracy: 0.5849 - val_loss: 1.0429 - val_accuracy: 0.5974\n",
            "Epoch 3/10\n",
            "180/180 [==============================] - 66s 368ms/step - loss: 0.9760 - accuracy: 0.6143 - val_loss: 1.0506 - val_accuracy: 0.5974\n",
            "Epoch 4/10\n",
            "180/180 [==============================] - 65s 361ms/step - loss: 0.9086 - accuracy: 0.6472 - val_loss: 0.8790 - val_accuracy: 0.6639\n",
            "Epoch 5/10\n",
            "180/180 [==============================] - 68s 379ms/step - loss: 0.8723 - accuracy: 0.6579 - val_loss: 0.8402 - val_accuracy: 0.6838\n",
            "Epoch 6/10\n",
            "180/180 [==============================] - 65s 359ms/step - loss: 0.8483 - accuracy: 0.6711 - val_loss: 0.7703 - val_accuracy: 0.7130\n",
            "Epoch 7/10\n",
            "180/180 [==============================] - 64s 355ms/step - loss: 0.8156 - accuracy: 0.6817 - val_loss: 0.7380 - val_accuracy: 0.7195\n",
            "Epoch 8/10\n",
            "180/180 [==============================] - 66s 368ms/step - loss: 0.7908 - accuracy: 0.7007 - val_loss: 0.7276 - val_accuracy: 0.7172\n",
            "Epoch 9/10\n",
            "180/180 [==============================] - 64s 356ms/step - loss: 0.7667 - accuracy: 0.7091 - val_loss: 0.7175 - val_accuracy: 0.7287\n",
            "Epoch 10/10\n",
            "180/180 [==============================] - 64s 358ms/step - loss: 0.7501 - accuracy: 0.7125 - val_loss: 0.7025 - val_accuracy: 0.7183\n"
          ]
        },
        {
          "output_type": "execute_result",
          "data": {
            "text/plain": [
              "<keras.callbacks.History at 0x7ffa50da1f90>"
            ]
          },
          "metadata": {},
          "execution_count": 11
        }
      ]
    },
    {
      "cell_type": "markdown",
      "source": [
        "SAVE THE MODEL"
      ],
      "metadata": {
        "id": "ekHa8jYUba8w"
      }
    },
    {
      "cell_type": "code",
      "source": [
        "model.save('IBM_flowers.h5')"
      ],
      "metadata": {
        "id": "_DIrShHrbcpZ"
      },
      "execution_count": 12,
      "outputs": []
    },
    {
      "cell_type": "markdown",
      "source": [
        "TEST THE MODEL"
      ],
      "metadata": {
        "id": "e06k0CLfcEMm"
      }
    },
    {
      "cell_type": "code",
      "source": [
        "import numpy as np\n",
        "from tensorflow.keras.models import load_model\n",
        "from tensorflow.keras.preprocessing import image\n",
        "model=load_model('IBM_flowers.h5')\n",
        "img=image.load_img(r'/content/drive/MyDrive/test/flowers/rose/394990940_7af082cf8d_n.jpg')"
      ],
      "metadata": {
        "id": "rqydXEJ0bksH"
      },
      "execution_count": 13,
      "outputs": []
    },
    {
      "cell_type": "code",
      "source": [
        "img=image.load_img(r'/content/drive/MyDrive/test/flowers/rose/394990940_7af082cf8d_n.jpg',target_size=(64,64))\n",
        "img"
      ],
      "metadata": {
        "id": "lIPAKiZ4bpe9",
        "colab": {
          "base_uri": "https://localhost:8080/",
          "height": 81
        },
        "outputId": "0c84ad43-f84f-4aa8-b826-b62b25581c9d"
      },
      "execution_count": 14,
      "outputs": [
        {
          "output_type": "execute_result",
          "data": {
            "text/plain": [
              "<PIL.Image.Image image mode=RGB size=64x64 at 0x7FFA4BED91D0>"
            ],
            "image/png": "[encoded data removed]"
          },
          "metadata": {},
          "execution_count": 14
        }
      ]
    },
    {
      "cell_type": "code",
      "source": [
        "x=image.img_to_array(img)\n",
        "x"
      ],
      "metadata": {
        "id": "gDQ2JK0dbtAu",
        "colab": {
          "base_uri": "https://localhost:8080/"
        },
        "outputId": "6950cdb6-10f2-4c16-90bd-3c8e795c3249"
      },
      "execution_count": 15,
      "outputs": [
        {
          "output_type": "execute_result",
          "data": {
            "text/plain": [
              "array([[[ 4., 14.,  3.],\n",
              "        [ 4., 15.,  0.],\n",
              "        [ 7., 10.,  3.],\n",
              "        ...,\n",
              "        [ 1.,  1.,  1.],\n",
              "        [ 1.,  1.,  1.],\n",
              "        [ 3.,  3.,  3.]],\n",
              "\n",
              "       [[21., 37.,  8.],\n",
              "        [ 7., 18.,  1.],\n",
              "        [ 5., 11.,  1.],\n",
              "        ...,\n",
              "        [ 1.,  1.,  3.],\n",
              "        [ 1.,  1.,  1.],\n",
              "        [ 2.,  2.,  2.]],\n",
              "\n",
              "       [[15., 34.,  4.],\n",
              "        [ 5., 18.,  0.],\n",
              "        [ 6., 14.,  3.],\n",
              "        ...,\n",
              "        [ 1.,  2.,  4.],\n",
              "        [ 0.,  0.,  0.],\n",
              "        [ 1.,  1.,  1.]],\n",
              "\n",
              "       ...,\n",
              "\n",
              "       [[ 7., 11., 10.],\n",
              "        [ 7., 16., 15.],\n",
              "        [17., 23., 21.],\n",
              "        ...,\n",
              "        [ 1.,  1.,  1.],\n",
              "        [ 2.,  2.,  2.],\n",
              "        [ 0.,  0.,  0.]],\n",
              "\n",
              "       [[ 9., 18., 15.],\n",
              "        [ 2.,  7.,  3.],\n",
              "        [ 5., 11.,  7.],\n",
              "        ...,\n",
              "        [ 0.,  0.,  0.],\n",
              "        [ 1.,  1.,  1.],\n",
              "        [ 1.,  1.,  1.]],\n",
              "\n",
              "       [[18., 26., 28.],\n",
              "        [ 0., 10.,  2.],\n",
              "        [ 8., 14., 10.],\n",
              "        ...,\n",
              "        [ 2.,  6.,  9.],\n",
              "        [ 1.,  1.,  1.],\n",
              "        [ 1.,  1.,  1.]]], dtype=float32)"
            ]
          },
          "metadata": {},
          "execution_count": 15
        }
      ]
    },
    {
      "cell_type": "code",
      "source": [
        "x=np.expand_dims(x,axis=0)\n",
        "x\n"
      ],
      "metadata": {
        "id": "TkOAC7WEbwzu",
        "colab": {
          "base_uri": "https://localhost:8080/"
        },
        "outputId": "15255092-8ed4-458c-b8dd-88325109626a"
      },
      "execution_count": 16,
      "outputs": [
        {
          "output_type": "execute_result",
          "data": {
            "text/plain": [
              "array([[[[ 4., 14.,  3.],\n",
              "         [ 4., 15.,  0.],\n",
              "         [ 7., 10.,  3.],\n",
              "         ...,\n",
              "         [ 1.,  1.,  1.],\n",
              "         [ 1.,  1.,  1.],\n",
              "         [ 3.,  3.,  3.]],\n",
              "\n",
              "        [[21., 37.,  8.],\n",
              "         [ 7., 18.,  1.],\n",
              "         [ 5., 11.,  1.],\n",
              "         ...,\n",
              "         [ 1.,  1.,  3.],\n",
              "         [ 1.,  1.,  1.],\n",
              "         [ 2.,  2.,  2.]],\n",
              "\n",
              "        [[15., 34.,  4.],\n",
              "         [ 5., 18.,  0.],\n",
              "         [ 6., 14.,  3.],\n",
              "         ...,\n",
              "         [ 1.,  2.,  4.],\n",
              "         [ 0.,  0.,  0.],\n",
              "         [ 1.,  1.,  1.]],\n",
              "\n",
              "        ...,\n",
              "\n",
              "        [[ 7., 11., 10.],\n",
              "         [ 7., 16., 15.],\n",
              "         [17., 23., 21.],\n",
              "         ...,\n",
              "         [ 1.,  1.,  1.],\n",
              "         [ 2.,  2.,  2.],\n",
              "         [ 0.,  0.,  0.]],\n",
              "\n",
              "        [[ 9., 18., 15.],\n",
              "         [ 2.,  7.,  3.],\n",
              "         [ 5., 11.,  7.],\n",
              "         ...,\n",
              "         [ 0.,  0.,  0.],\n",
              "         [ 1.,  1.,  1.],\n",
              "         [ 1.,  1.,  1.]],\n",
              "\n",
              "        [[18., 26., 28.],\n",
              "         [ 0., 10.,  2.],\n",
              "         [ 8., 14., 10.],\n",
              "         ...,\n",
              "         [ 2.,  6.,  9.],\n",
              "         [ 1.,  1.,  1.],\n",
              "         [ 1.,  1.,  1.]]]], dtype=float32)"
            ]
          },
          "metadata": {},
          "execution_count": 16
        }
      ]
    },
    {
      "cell_type": "code",
      "source": [
        "y=np.argmax(model.predict(x),axis=1)\n",
        "y"
      ],
      "metadata": {
        "id": "OjrqUclmb2kX",
        "colab": {
          "base_uri": "https://localhost:8080/"
        },
        "outputId": "39419de1-48f5-42b4-a095-e3871b91a455"
      },
      "execution_count": 17,
      "outputs": [
        {
          "output_type": "stream",
          "name": "stdout",
          "text": [
            "1/1 [==============================] - 0s 116ms/step\n"
          ]
        },
        {
          "output_type": "execute_result",
          "data": {
            "text/plain": [
              "array([4])"
            ]
          },
          "metadata": {},
          "execution_count": 17
        }
      ]
    },
    {
      "cell_type": "code",
      "source": [
        "x_train.class_indices"
      ],
      "metadata": {
        "id": "nRODFHkyb7D6",
        "colab": {
          "base_uri": "https://localhost:8080/"
        },
        "outputId": "64cc8457-b819-4af4-8081-13b8511c7544"
      },
      "execution_count": 18,
      "outputs": [
        {
          "output_type": "execute_result",
          "data": {
            "text/plain": [
              "{'daisy': 0, 'dandelion': 1, 'rose': 2, 'sunflower': 3, 'tulip': 4}"
            ]
          },
          "metadata": {},
          "execution_count": 18
        }
      ]
    },
    {
      "cell_type": "code",
      "source": [
        "index=['daisy','dandelion','rose','sunflower','tulip']\n",
        "index[y[0]]"
      ],
      "metadata": {
        "id": "dVERJemSb9js",
        "colab": {
          "base_uri": "https://localhost:8080/",
          "height": 36
        },
        "outputId": "19c88a6b-114b-41ad-883b-690e56619a5f"
      },
      "execution_count": 19,
      "outputs": [
        {
          "output_type": "execute_result",
          "data": {
            "text/plain": [
              "'tulip'"
            ],
            "application/vnd.google.colaboratory.intrinsic+json": {
              "type": "string"
            }
          },
          "metadata": {},
          "execution_count": 19
        }
      ]
    }
  ]
}